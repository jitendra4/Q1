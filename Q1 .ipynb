{
 "cells": [
  {
   "cell_type": "code",
   "execution_count": 80,
   "metadata": {},
   "outputs": [
    {
     "name": "stdout",
     "output_type": "stream",
     "text": [
      "Requirement already satisfied: selenium in d:\\new folder\\lib\\site-packages (3.141.0)\n",
      "Requirement already satisfied: urllib3 in d:\\new folder\\lib\\site-packages (from selenium) (1.25.11)\n"
     ]
    }
   ],
   "source": [
    "#Lets firts install the selenium Library\n",
    "!pip install selenium"
   ]
  },
  {
   "cell_type": "code",
   "execution_count": 81,
   "metadata": {},
   "outputs": [],
   "source": [
    "#Importing all the requried libraries\n",
    "import selenium\n",
    "from selenium import webdriver\n",
    "import time\n",
    "import pandas as pd\n",
    "from selenium.common.exceptions import StaleElementReferenceException, NoSuchElementException, ElementNotVisibleException, ElementNotInteractableException, SessionNotCreatedException, TimeoutException    "
   ]
  },
  {
   "cell_type": "code",
   "execution_count": 82,
   "metadata": {},
   "outputs": [],
   "source": [
    "url=\"https://en.m.wikipedia.org/w/index.php?search=List+of+most-viewed+YouTube+videos%2F&title=Special:Search&fulltext=1&ns0=1\""
   ]
  },
  {
   "cell_type": "code",
   "execution_count": 83,
   "metadata": {},
   "outputs": [],
   "source": [
    "#Lets first connect to the web drivers\n",
    "driver=webdriver.Chrome(r\"C:\\Users\\G\\Downloads\\chromedriver_win32\\chromedriver.exe\")"
   ]
  },
  {
   "cell_type": "code",
   "execution_count": 84,
   "metadata": {},
   "outputs": [],
   "source": [
    "driver.get(url)"
   ]
  },
  {
   "cell_type": "code",
   "execution_count": 85,
   "metadata": {},
   "outputs": [],
   "source": [
    "button = driver.find_element_by_xpath('//div[@class=\"mw-search-result-heading\"]/a').get_attribute('href')\n",
    "driver.get(button)"
   ]
  },
  {
   "cell_type": "code",
   "execution_count": 107,
   "metadata": {},
   "outputs": [],
   "source": [
    "fund_dict = ({}) \n",
    "fund_dict['name'] = []\n",
    "fund_dict['artist'] = []\n",
    "fund_dict['upload_date'] = []\n",
    "fund_dict['view'] = []"
   ]
  },
  {
   "cell_type": "code",
   "execution_count": 108,
   "metadata": {},
   "outputs": [],
   "source": [
    "for i in range(48,51):\n",
    "    driver.find_element_by_xpath('//table[@class=\"wikitable sortable\"]'.format(i)).click()\n",
    "\n",
    "    # Date\n",
    "    na = driver.find_elements_by_xpath('//table[@class=\"wikitable sortable\"]/tbody/tr/td[2]'.format(i))\n",
    "    for d in na:\n",
    "        fund_dict['name'].append(d.text)\n",
    "\n",
    "    # Startup Name\n",
    "    ar = driver.find_elements_by_xpath('//table[@class=\"wikitable sortable\"]/tbody/tr/a'.format(i))\n",
    "    for n in ar:\n",
    "        fund_dict['artist'].append(n.text)\n",
    "    \n",
    "    # Industry/Vertical\n",
    "    dt = driver.find_elements_by_xpath('//table[@class=\"wikitable sortable\"]/tbody/tr/td[3]'.format(i))\n",
    "    for n in dt:\n",
    "        fund_dict['upload_date'].append(n.text)\n",
    "    \n",
    "    # Sub-Vertical\n",
    "    ve = driver.find_elements_by_xpath('//table[@class=\"wikitable sortable\"]/tbody/tr/td[2]'.format(i))\n",
    "    for s in ve:\n",
    "        fund_dict['view'].append(s.text)\n",
    "\n",
    "\n"
   ]
  },
  {
   "cell_type": "code",
   "execution_count": 109,
   "metadata": {},
   "outputs": [
    {
     "data": {
      "text/plain": [
       "{'na': [], 'ar': [], 'dt': []}"
      ]
     },
     "execution_count": 109,
     "metadata": {},
     "output_type": "execute_result"
    }
   ],
   "source": [
    "import  pandas as pd\n",
    "fund_dict = ({}) \n",
    "fund_dict['na'] = name[0:8]\n",
    "fund_dict['ar'] = artist[0:8]\n",
    "fund_dict['dt'] = upload_date[0:8]\n",
    "\n",
    "fund_dict"
   ]
  },
  {
   "cell_type": "code",
   "execution_count": null,
   "metadata": {},
   "outputs": [],
   "source": []
  }
 ],
 "metadata": {
  "kernelspec": {
   "display_name": "Python 3",
   "language": "python",
   "name": "python3"
  },
  "language_info": {
   "codemirror_mode": {
    "name": "ipython",
    "version": 3
   },
   "file_extension": ".py",
   "mimetype": "text/x-python",
   "name": "python",
   "nbconvert_exporter": "python",
   "pygments_lexer": "ipython3",
   "version": "3.8.5"
  }
 },
 "nbformat": 4,
 "nbformat_minor": 4
}
